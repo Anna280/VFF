{
 "cells": [
  {
   "cell_type": "code",
   "execution_count": null,
   "metadata": {},
   "outputs": [],
   "source": [
    "from utils.filtering import filter_pass_events_by_timestamp_coverage, preprocess_ball_and_events,compute_player_ball_uncertainty\n",
    "from utils.evaluation import count_pass_event_matches, evaluate_predictions_with_uncertainty\n",
    "from utils.build_passes import compress_consecutive_id, build_pass_events\n",
    "from utils.helpers import resolve_ties_by_team\n",
    "from utils.visualization import (\n",
    "    plot_density,\n",
    "    plot_acceleration_with_events,\n",
    "    plot_smoothed_acceleration\n",
    ")\n",
    "import pandas as pd\n",
    "import numpy as np\n",
    "import matplotlib.pyplot as plt"
   ]
  },
  {
   "cell_type": "code",
   "execution_count": null,
   "metadata": {},
   "outputs": [],
   "source": [
    "\n",
    "\n",
    "ball_path_match1 = \"../VFF_analytics_src/data/01_raw/sample_match_1/labelled_match_ball_match.csv\"\n",
    "players_path_match1 = \"../VFF_analytics_src/data/01_raw/sample_match_1/labelled_match_players_match.csv\"\n",
    "event_data_path_match1 = \"..VFF_analytics_src/data/01_raw/sample_match_1/Sample_Game_1_RawEventsData.csv\"\n",
    "\n",
    "ball_match1, event_data_passes_match1, filtered_pass_df_match1 = preprocess_ball_and_events(ball_path_match1, event_data_path_match1)\n",
    "\n",
    "\n",
    "\n",
    "ball_path_match2 = \"../VFF_analytics_src/data/01_raw/sample_match_2/labelled_match_ball_match2.csv\"\n",
    "players_path_match2 = \"../VFF_analytics_src/data/01_raw/sample_match_2/labelled_match_players_match2.csv\"\n",
    "event_data_path_match2 = \"../VFF/VFF_analytics_src/data/01_raw/sample_match_2/Sample_Game_2_RawEventsData.csv\"\n",
    "\n",
    "\n",
    "ball_match2, event_data_passes_match2, filtered_pass_df_match2 = preprocess_ball_and_events(ball_path_match2, event_data_path_match2)"
   ]
  },
  {
   "cell_type": "code",
   "execution_count": null,
   "metadata": {},
   "outputs": [],
   "source": [
    "plot_density(ball_match1, 'speed')\n",
    "plot_acceleration_with_events(ball_match1, event_data_passes_match1)\n",
    "plot_smoothed_acceleration(ball_match1)"
   ]
  },
  {
   "cell_type": "code",
   "execution_count": null,
   "metadata": {},
   "outputs": [],
   "source": [
    "\n",
    "players_and_ball_match1, rank_1_index_match1 = compute_player_ball_uncertainty(ball_match1, players_path_match1)\n",
    "players_and_ball_match2, rank_1_index_match2 = compute_player_ball_uncertainty(ball_match2, players_path_match2)"
   ]
  },
  {
   "cell_type": "code",
   "execution_count": null,
   "metadata": {},
   "outputs": [],
   "source": [
    "\n",
    "df_resolved_match1 = resolve_ties_by_team(rank_1_index_match1)\n",
    "df_blocks_match = compress_consecutive_id(df_resolved_match1)\n",
    "df_passes_match = build_pass_events(df_blocks_match, rank_1_index_match1, uncertainty_col=\"uncertainty_index\")\n",
    "\n",
    "\n",
    "df_filtered_match1 = df_passes_match[(df_passes_match[\"End Time [s]\"] - df_passes_match[\"Start Time [s]\"]) <= 10]\n",
    "event_data_passes_subset_match1 = filtered_pass_df_match1[[\"Start Time [s]\", \"End Time [s]\",\"From\", \"To\"]]\n",
    "\n",
    "\n",
    "metrics = count_pass_event_matches(event_data_passes_subset_match1, df_filtered_match1, tolerance=6)\n",
    "metrics"
   ]
  },
  {
   "cell_type": "code",
   "execution_count": null,
   "metadata": {},
   "outputs": [],
   "source": [
    "\n",
    "df_resolved_match2 = resolve_ties_by_team(rank_1_index_match2)\n",
    "df_blocks_match2 = compress_consecutive_id(df_resolved_match2)\n",
    "df_passes_match = build_pass_events(df_blocks_match2, rank_1_index_match2, uncertainty_col=\"uncertainty_index\")\n",
    "\n",
    "\n",
    "df_filtered_match2 = df_passes_match[(df_passes_match[\"End Time [s]\"] - df_passes_match[\"Start Time [s]\"]) <= 10]\n",
    "event_data_passes_subset_match2 = filtered_pass_df_match2[[\"Start Time [s]\", \"End Time [s]\",\"From\", \"To\"]]\n",
    "\n",
    "\n",
    "metrics2 = count_pass_event_matches(event_data_passes_subset_match2, df_filtered_match2, tolerance=6)\n",
    "metrics2"
   ]
  },
  {
   "cell_type": "code",
   "execution_count": null,
   "metadata": {},
   "outputs": [],
   "source": [
    "\n",
    "# Example data frames (replace these with your actual data)\n",
    "# Set tolerance (in seconds) for matching event times.\n",
    "tolerance = 7\n",
    "\n",
    "# Evaluate predictions and get confusion metrics along with uncertainty values.\n",
    "confusion, correct_unc, incorrect_unc = evaluate_predictions_with_uncertainty( df_filtered_match1,event_data_passes_subset_match1, tolerance)\n",
    "\n",
    "print(\"Confusion Metrics:\")\n",
    "print(confusion)\n",
    "\n",
    "# Optionally, plot the distribution of uncertainty values for correct vs. incorrect predictions.\n",
    "plt.figure(figsize=(8,6))\n",
    "plt.boxplot([correct_unc, incorrect_unc], labels=[\"Correct Predictions\", \"Incorrect Predictions\"])\n",
    "plt.ylabel(\"Uncertainty\")\n",
    "plt.title(\"Uncertainty Distribution: Correct vs. Incorrect Predictions\")\n",
    "plt.show()"
   ]
  }
 ],
 "metadata": {
  "kernelspec": {
   "display_name": "PythonVFF",
   "language": "python",
   "name": "venv"
  },
  "language_info": {
   "codemirror_mode": {
    "name": "ipython",
    "version": 3
   },
   "file_extension": ".py",
   "mimetype": "text/x-python",
   "name": "python",
   "nbconvert_exporter": "python",
   "pygments_lexer": "ipython3",
   "version": "3.13.1"
  }
 },
 "nbformat": 4,
 "nbformat_minor": 2
}
