{
 "cells": [
  {
   "cell_type": "code",
   "execution_count": null,
   "metadata": {},
   "outputs": [],
   "source": [
    "import pandas as pd \n",
    "import matplotlib.pyplot as plt"
   ]
  },
  {
   "cell_type": "code",
   "execution_count": null,
   "metadata": {},
   "outputs": [],
   "source": [
    "annotations2 = pd.read_csv(\"spiller_2_renskrevet.csv\",sep=\";\")\n",
    "annotations = pd.read_csv(\"spiller_24_renskrevet.csv\",sep=\";\")"
   ]
  },
  {
   "cell_type": "code",
   "execution_count": null,
   "metadata": {},
   "outputs": [],
   "source": [
    "annotations['Type'].value_counts() "
   ]
  },
  {
   "cell_type": "code",
   "execution_count": null,
   "metadata": {},
   "outputs": [],
   "source": [
    "annotations2['Type'].value_counts()"
   ]
  },
  {
   "cell_type": "code",
   "execution_count": null,
   "metadata": {},
   "outputs": [],
   "source": [
    "# Count the frequency of each type\n",
    "type_counts = annotations['Type'].value_counts()\n",
    "\n",
    "# Create the bar plot\n",
    "plt.figure(figsize=(8, 6))\n",
    "plt.bar(type_counts.index, type_counts.values)\n",
    "plt.xlabel('Type')\n",
    "plt.ylabel('Frequency')\n",
    "plt.title('Frequency of Different Types')\n",
    "plt.show()"
   ]
  },
  {
   "cell_type": "code",
   "execution_count": null,
   "metadata": {},
   "outputs": [],
   "source": [
    "import os\n",
    "import shutil\n",
    "import pandas as pd\n",
    "\n",
    "\n",
    "# Define the source folder where your plots are stored and the destination base folder.\n",
    "source_folder = \"/Users/annadaugaard/Desktop/VFF/explore/spiller_24_fokus\"  # Folder containing files named like plot_1.png, plot_2.png, etc.\n",
    "dest_base_folder = \"/Users/annadaugaard/Desktop/VFF/explore/plots_by_type_player_24\"  # Base folder for the sorted plots\n",
    "\n",
    "# Create the base destination folder if it does not already exist.\n",
    "os.makedirs(dest_base_folder, exist_ok=True)\n",
    "\n",
    "# Create a subfolder for each unique type, converting the type to a string.\n",
    "unique_types = annotations['Type'].unique()\n",
    "for typ in unique_types:\n",
    "    type_folder = os.path.join(dest_base_folder, str(typ))\n",
    "    os.makedirs(type_folder, exist_ok=True)\n",
    "\n",
    "# Loop over each row in the DataFrame and copy the corresponding plot file.\n",
    "# Using Picture_id to form the filename. If Picture_id is a float, convert it to int.\n",
    "for idx, row in annotations.iterrows():\n",
    "    # Convert Picture_id to int if needed, then construct the filename.\n",
    "    picture_id = int(row['Picture_id'])\n",
    "    plot_filename = f\"plot_{picture_id}.png\"\n",
    "    src_file = os.path.join(source_folder, plot_filename)\n",
    "    \n",
    "    # Convert Type to string when determining the destination folder.\n",
    "    dest_folder = os.path.join(dest_base_folder, str(row['Type']))\n",
    "    dest_file = os.path.join(dest_folder, plot_filename)\n",
    "    \n",
    "    # Copy the file if it exists; otherwise, print a warning.\n",
    "    if os.path.exists(src_file):\n",
    "        shutil.copy(src_file, dest_file)\n",
    "    else:\n",
    "        print(f\"File {src_file} not found.\")\n",
    "\n",
    "print(\"Plot files have been copied into their respective type folders.\")"
   ]
  },
  {
   "cell_type": "code",
   "execution_count": null,
   "metadata": {},
   "outputs": [],
   "source": [
    "import pandas as pd\n",
    "from pathlib import Path\n",
    "import re\n",
    "\n",
    "# Load your dataframe\n",
    "# Folder path\n",
    "folder = Path(\"/Users/annadaugaard/Desktop/VFF/explore/plots_annotations_only_player_2\")\n",
    "\n",
    "# List to hold parsed info\n",
    "parsed_files = []\n",
    "\n",
    "# Regex to extract plot ID and to_x from filename\n",
    "pattern = r\"plot_(\\d+)_from_(\\d+)_to_(\\d+)\\.png\"\n",
    "\n",
    "# Loop through files and extract info\n",
    "for file in folder.glob(\"plot_*.png\"):\n",
    "    match = re.search(pattern, file.name)\n",
    "    if match:\n",
    "        plot_id, from_x, to_x = match.groups()\n",
    "        parsed_files.append({\n",
    "            \"plot_id\": int(plot_id),\n",
    "            \"from_x\": int(from_x),\n",
    "            \"to_x\": int(to_x),\n",
    "            \"filename\": file.name\n",
    "        })\n",
    "\n",
    "# Convert to dataframe\n",
    "file_df = pd.DataFrame(parsed_files)\n",
    "annotations_2 = pd.read_csv(\"/Users/annadaugaard/Desktop/VFF/explore/spiller_24_renskrevet.csv\",sep=\";\")\n",
    "# Merge with ground truth using to_x == player_num\n",
    "merged2 = file_df.merge(annotations_2, left_on=\"plot_id\", right_on=\"Picture_id\", how=\"left\")\n"
   ]
  },
  {
   "cell_type": "code",
   "execution_count": null,
   "metadata": {},
   "outputs": [],
   "source": [
    "# Filter rows where player_num matches to_x\n",
    "matching_rows2 = merged2[merged2[\"player_num\"] == merged2[\"to_x\"]]\n",
    "matching_rows2\n"
   ]
  },
  {
   "cell_type": "code",
   "execution_count": null,
   "metadata": {},
   "outputs": [],
   "source": [
    "#player2\n",
    "len(matching_rows2)/len(annotations_2[\"Picture_id\"].unique())"
   ]
  },
  {
   "cell_type": "code",
   "execution_count": null,
   "metadata": {},
   "outputs": [],
   "source": []
  },
  {
   "cell_type": "code",
   "execution_count": null,
   "metadata": {},
   "outputs": [],
   "source": [
    "len(annotations_2[\"Picture_id\"].unique())"
   ]
  },
  {
   "cell_type": "code",
   "execution_count": null,
   "metadata": {},
   "outputs": [],
   "source": [
    "len(annotations[\"Picture_id\"].unique())"
   ]
  },
  {
   "cell_type": "code",
   "execution_count": null,
   "metadata": {},
   "outputs": [],
   "source": [
    "36+29"
   ]
  },
  {
   "cell_type": "code",
   "execution_count": null,
   "metadata": {},
   "outputs": [],
   "source": [
    "\n",
    "#player 24\n",
    "len(matching_rows)/len(annotations[\"Picture_id\"].unique())"
   ]
  },
  {
   "cell_type": "markdown",
   "metadata": {},
   "source": []
  },
  {
   "cell_type": "code",
   "execution_count": null,
   "metadata": {},
   "outputs": [],
   "source": [
    "1/22*100"
   ]
  },
  {
   "cell_type": "code",
   "execution_count": null,
   "metadata": {},
   "outputs": [],
   "source": [
    "real_events=  pd.read_csv(\"/Users/annadaugaard/Desktop/VFF/explore/passes_from_player24_plots_and_pass_events.csv\")"
   ]
  },
  {
   "cell_type": "code",
   "execution_count": null,
   "metadata": {},
   "outputs": [],
   "source": [
    "real_events"
   ]
  },
  {
   "cell_type": "code",
   "execution_count": null,
   "metadata": {},
   "outputs": [],
   "source": [
    "#subset_df.index = subset_df.index.astype(int)\n",
    "real_events[\"pass_event_id\"] = real_events[\"pass_event_id\"].astype(int)\n",
    "\n",
    "# Subset subset_df where its index is in annotations[\"Picture_id\"]\n",
    "filtered_df = real_passes[real_passes.index.isin(real_events[\"pass_event_id\"])]"
   ]
  },
  {
   "cell_type": "code",
   "execution_count": null,
   "metadata": {},
   "outputs": [],
   "source": [
    "rthing =real_events[\"Unnamed: 0\"].tolist()"
   ]
  },
  {
   "cell_type": "code",
   "execution_count": null,
   "metadata": {},
   "outputs": [],
   "source": [
    "filtered_df[\"plot_id\"] = rthing"
   ]
  },
  {
   "cell_type": "code",
   "execution_count": null,
   "metadata": {},
   "outputs": [],
   "source": [
    "real_passes =  pd.read_csv(\"/Users/annadaugaard/Desktop/VFF/deployment/tracking/test_for_streamit.csv\")\n",
    "real_passes = real_passes[real_passes[\"Team\"] == \"home\"].reset_index(drop=True)\n",
    "real_passes = real_passes[real_passes[\"uncertainty\"] < 2].reset_index(drop=True)"
   ]
  },
  {
   "cell_type": "code",
   "execution_count": null,
   "metadata": {},
   "outputs": [],
   "source": [
    "merged_ty= filtered_df.merge(annotations, left_on=\"plot_id\", right_on=\"Picture_id\", how=\"left\")"
   ]
  },
  {
   "cell_type": "code",
   "execution_count": null,
   "metadata": {},
   "outputs": [],
   "source": [
    "# Filter rows where player_num matches to_x\n",
    "merged2222= merged_ty[merged_ty[\"player_num\"] == merged_ty[\"To\"]]\n"
   ]
  },
  {
   "cell_type": "code",
   "execution_count": null,
   "metadata": {},
   "outputs": [],
   "source": [
    "merged2222"
   ]
  },
  {
   "cell_type": "code",
   "execution_count": null,
   "metadata": {},
   "outputs": [],
   "source": [
    "len(merged2222)/len(annotations_2[\"Picture_id\"].unique())"
   ]
  },
  {
   "cell_type": "code",
   "execution_count": null,
   "metadata": {},
   "outputs": [],
   "source": [
    "annotations2 = pd.read_csv(\"spiller_2_renskrevet.csv\",sep=\";\")\n",
    "player_2_decisions = pd.read_csv(\"/Users/annadaugaard/Desktop/VFF/deployment/tracking/test_for_streamit.csv\")"
   ]
  },
  {
   "cell_type": "code",
   "execution_count": null,
   "metadata": {},
   "outputs": [],
   "source": []
  },
  {
   "cell_type": "code",
   "execution_count": null,
   "metadata": {},
   "outputs": [],
   "source": [
    "player_2_decisions.reset_index(drop=True, inplace=True)\n",
    "player_2_decisions.index = player_2_decisions.index + 1\n",
    "df_filtered_player2 = player_2_decisions.drop(index=[3,5,7,17,25,30,34])"
   ]
  },
  {
   "cell_type": "code",
   "execution_count": null,
   "metadata": {},
   "outputs": [],
   "source": [
    "len(df_filtered_player2)"
   ]
  },
  {
   "cell_type": "code",
   "execution_count": null,
   "metadata": {},
   "outputs": [],
   "source": [
    "df_filtered_player2"
   ]
  },
  {
   "cell_type": "code",
   "execution_count": null,
   "metadata": {},
   "outputs": [],
   "source": [
    "len(annotations2[\"Picture_id\"].unique())"
   ]
  },
  {
   "cell_type": "code",
   "execution_count": null,
   "metadata": {},
   "outputs": [],
   "source": [
    "annotations2"
   ]
  },
  {
   "cell_type": "code",
   "execution_count": null,
   "metadata": {},
   "outputs": [],
   "source": []
  }
 ],
 "metadata": {
  "kernelspec": {
   "display_name": "PythonVFF",
   "language": "python",
   "name": "venv"
  },
  "language_info": {
   "codemirror_mode": {
    "name": "ipython",
    "version": 3
   },
   "file_extension": ".py",
   "mimetype": "text/x-python",
   "name": "python",
   "nbconvert_exporter": "python",
   "pygments_lexer": "ipython3",
   "version": "3.13.1"
  }
 },
 "nbformat": 4,
 "nbformat_minor": 2
}
